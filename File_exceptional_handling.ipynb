{
  "nbformat": 4,
  "nbformat_minor": 0,
  "metadata": {
    "colab": {
      "provenance": []
    },
    "kernelspec": {
      "name": "python3",
      "display_name": "Python 3"
    },
    "language_info": {
      "name": "python"
    }
  },
  "cells": [
    {
      "cell_type": "markdown",
      "source": [
        "Theory Questions"
      ],
      "metadata": {
        "id": "xii9Gb4NzUy8"
      }
    },
    {
      "cell_type": "markdown",
      "source": [
        "1. What is the difference between interpreted and compiled languages?\n",
        "\n",
        "Ans The main difference between compiled and interpreted languages lies in how the source code is executed. Compiled languages are translated into machine code before runtime, allowing for faster execution, while interpreted languages are executed line by line during runtime by an interpreter. This means compiled code can be executed directly by the computer's CPU, whereas interpreted code relies on an intermediary program to execute each instruction."
      ],
      "metadata": {
        "id": "YqF-5tprzUvh"
      }
    },
    {
      "cell_type": "markdown",
      "source": [
        "2. What is exception handling in Python?\n",
        "\n",
        "Ans Exception handling in Python is a mechanism that allows programs to gracefully manage and respond to runtime errors or \"exceptions\" that occur during execution, preventing abrupt program termination.\n"
      ],
      "metadata": {
        "id": "MAQcxViazUnC"
      }
    },
    {
      "cell_type": "markdown",
      "source": [
        "3. What is the purpose of the finally block in exception handling?\n",
        "\n",
        "Ans The finally block in exception handling ensures that a specific block of code is always executed, regardless of whether an exception is thrown or caught within the try block. Its primary purpose is to perform necessary cleanup operations, such as releasing resources (closing files, database connections, etc.) or performing other final actions, to prevent resource leaks and ensure proper program termination."
      ],
      "metadata": {
        "id": "WigiB2C_zUZj"
      }
    },
    {
      "cell_type": "markdown",
      "source": [
        "4. What is logging in Python?\n",
        "\n",
        "Ans Logging in Python refers to the process of recording events that occur during the execution of a software program. It involves adding calls to your code that, when executed, generate messages containing information about the program's state, errors, warnings, or other significant events."
      ],
      "metadata": {
        "id": "uJ5_FUEC0SA1"
      }
    },
    {
      "cell_type": "markdown",
      "source": [
        "5. What is the significance of the __del__ method in Python?\n",
        "\n",
        "Ans The __del__ method in Python, often referred to as a \"finalizer,\" is a special method defined within a class that is automatically called by the Python interpreter when an object is about to be garbage collected. Its primary significance lies in enabling resource cleanup and finalization tasks associated with an object before its destruction."
      ],
      "metadata": {
        "id": "COLhtSj70R9W"
      }
    },
    {
      "cell_type": "markdown",
      "source": [
        "6. What is the difference between import and from ... import in Pythone exceptions in Python?\n",
        "\n",
        "Ans The import statement is used to import a module or a module's attribute into the current namespace. It allows you to access the module's attributes by prefixing them with the module name.\n",
        "\n",
        "On the other hand, the from statement is used to import specific attributes from a module into the current namespace. With the from statement, you can import only the attributes that you need, instead of the entire module."
      ],
      "metadata": {
        "id": "rIPTQSJC0R5y"
      }
    },
    {
      "cell_type": "markdown",
      "source": [
        "7. How can you handle multiple exceptions in Python?\n",
        "\n",
        "Ans In Python, multiple exceptions can be handled within a try-except block using a few different approaches:\n",
        "Catching multiple exceptions with a single except block:\n",
        "This method is used when the same handling logic applies to several different exception types. You can specify a tuple of exception types in the except clause."
      ],
      "metadata": {
        "id": "sV4wGE7C3DKc"
      }
    },
    {
      "cell_type": "markdown",
      "source": [
        "8. What is the purpose of the with statement when handling files in Python?\n",
        "\n",
        "Ans The with statement in Python, when used with file handling, serves the primary purpose of ensuring proper resource management, specifically guaranteeing that files are automatically closed after their use, even if errors occur."
      ],
      "metadata": {
        "id": "BUneVGzX0R2h"
      }
    },
    {
      "cell_type": "markdown",
      "source": [
        "9. What is the difference between multithreading and multiprocessing?\n",
        "\n",
        "Ans Multithreading vs Multiprocessing in Operating System - DataFlairMultithreading and multiprocessing are both techniques to achieve parallel execution, but they differ in how they divide tasks and manage resources. Multithreading involves running multiple threads within a single process, sharing the same memory space. Multiprocessing, on the other hand, utilizes multiple processes, each with its own memory space, potentially on separate CPUs."
      ],
      "metadata": {
        "id": "E-aMBLTz0RsN"
      }
    },
    {
      "cell_type": "markdown",
      "source": [
        "10. What are the advantages of using logging in a program?\n",
        "\n",
        "Ans  Logging offers numerous advantages in programming, primarily aiding in debugging, performance monitoring, and security. It provides a detailed record of application behavior, allowing developers to understand how the program functions, track events, and identify issues, including errors, warnings, and other critical events. Logs also help in analyzing application behavior over time, detecting usage patterns, and even facilitating incident investigations."
      ],
      "metadata": {
        "id": "KOrtp2Q-12yD"
      }
    },
    {
      "cell_type": "markdown",
      "source": [
        "11. What is memory management in Python?\n",
        "\n",
        "Ans Memory management in Python refers to the automatic process by which Python handles the allocation and deallocation of memory for its objects and data structures. Unlike languages like C or C++ where developers manually manage memory, Python automates this process, simplifying development and reducing the risk of memory-related errors."
      ],
      "metadata": {
        "id": "ZKmEpWHQ12ug"
      }
    },
    {
      "cell_type": "markdown",
      "source": [
        "12. What are the basic steps involved in exception handling in Python?\n",
        "\n",
        "Ans Exception handling in Python involves a structured approach to gracefully manage errors and unexpected events that occur during program execution. The basic steps are encapsulated within the try, except, else, and finally blocks."
      ],
      "metadata": {
        "id": "4-kL4USK12k5"
      }
    },
    {
      "cell_type": "markdown",
      "source": [
        "13. Why is memory management important in Python?\n",
        "\n",
        "Ans Memory management is crucial in Python, even though it largely handles memory automatically, for several reasons:\n",
        "\n",
        "Performance Optimization:\n",
        "\n",
        "Preventing Memory Leaks:\n",
        "\n",
        "Resource Management:\n",
        "\n",
        "Debugging Memory-Related Issues:\n",
        "\n",
        "Writing Efficient Code:"
      ],
      "metadata": {
        "id": "6m8KJ1Qb12hj"
      }
    },
    {
      "cell_type": "markdown",
      "source": [
        "14. What is the role of try and except in exception handling?\n",
        "\n",
        "Ans In Python, the try and except statements are the fundamental building blocks of exception handling. They allow you to gracefully manage potential errors in your code, preventing abrupt program termination and providing alternative actions when something goes wrong. The try block contains the code that might raise an exception, while the except block(s) specify how to handle specific exceptions if they occur."
      ],
      "metadata": {
        "id": "wvZNNPh512e6"
      }
    },
    {
      "cell_type": "markdown",
      "source": [
        "15. How does Python's garbage collection system work?\n",
        "\n",
        "Ans Python's garbage collection system primarily uses reference counting as its main mechanism for memory management. It also employs a generational garbage collector to handle circular references. Essentially, Python keeps track of how many references point to each object. When the reference count drops to zero, the object is considered garbage and its memory is freed."
      ],
      "metadata": {
        "id": "rvIJsRGa4MbB"
      }
    },
    {
      "cell_type": "markdown",
      "source": [
        "16. What is the purpose of the else block in exception handling?\n",
        "\n",
        "Ans In exception handling, the else block executes code only when no exceptions are raised within the associated try block. It provides a way to separate the code that might cause errors from the code that should only run when everything is working correctly."
      ],
      "metadata": {
        "id": "FaqFG2UG4MXj"
      }
    },
    {
      "cell_type": "markdown",
      "source": [
        "17. What are the common logging levels in Python?\n",
        "\n",
        "Ans The common logging levels, in increasing order of severity, are:\n",
        "\n",
        "**DEBUG (10):**\n",
        "\n",
        "Detailed information, typically of interest only when diagnosing problems. This level is useful for developers during the development and debugging phases.\n",
        "\n",
        "**INFO (20):**\n",
        "\n",
        "Confirmation that things are working as expected. These messages provide general information about the application's progress and state.\n",
        "\n",
        "**WARNING (30):**\n",
        "\n",
        "An indication that something unexpected happened, or indicative of a potential problem in the near future (e.g., 'disk space low'). The software is still working as expected.\n",
        "\n",
        "**ERROR (40):**\n",
        "\n",
        "Due to a more serious problem, the software has not been able to perform some function. This indicates a significant issue that needs attention.\n",
        "\n",
        "**CRITICAL (50):**\n",
        "\n",
        "A serious error, indicating that the program itself may be unable to continue running. This is the highest level of severity and usually signifies a catastrophic failure."
      ],
      "metadata": {
        "id": "DgoAhDxc4MVB"
      }
    },
    {
      "cell_type": "markdown",
      "source": [
        " 18. What is the difference between os.fork() and multiprocessing in Python?\n",
        "\n",
        " Ans os.fork() provides direct, low-level control over process creation, the multiprocessing module offers a more robust, portable, and user-friendly framework for parallel processing in Python, especially for complex scenarios involving IPC and resource management."
      ],
      "metadata": {
        "id": "-KQB_4f74MSZ"
      }
    },
    {
      "cell_type": "markdown",
      "source": [
        "19. What is the importance of closing a file in Python?\n",
        "\n",
        "Ans closing files in Python is essential for maintaining data integrity, managing system resources efficiently, preventing potential corruption, and adhering to good programming practices."
      ],
      "metadata": {
        "id": "3Edg2_FXAI8K"
      }
    },
    {
      "cell_type": "markdown",
      "source": [
        "20. What is the difference between file.read() and file.readline() in Python?\n",
        "\n",
        "Ans The `read()` method will read the entire content of the file or stream if no argument is provided, returning a string. On the other hand, the `readline()` method reads a single line up to the newline character (`\\n`) and returns it as a string. If there are no more lines to read, it will return an empty string."
      ],
      "metadata": {
        "id": "YVdU0qAG4MIE"
      }
    },
    {
      "cell_type": "markdown",
      "source": [
        "21.  What is the logging module in Python used for?\n",
        "\n",
        "Ans We use the built-in logging module to capture logs, which provide insights into application flow, errors, and usage patterns. With Python logging, you can create and configure loggers, set log levels, and format log messages without installing additional packages"
      ],
      "metadata": {
        "id": "Ol5teOH-4MEp"
      }
    },
    {
      "cell_type": "markdown",
      "source": [
        "22. What is the os module in Python used for in file handling?\n",
        "\n",
        "Ans The Python OS module is essential for file-related tasks, enabling efficient file and directory management in programs. It allows you to easily handle the current working directory, create and delete directories, list files and folders, and perform file operations."
      ],
      "metadata": {
        "id": "R1g0-f2H4MCE"
      }
    },
    {
      "cell_type": "markdown",
      "source": [
        "23. What are the challenges associated with memory management in Python?\n",
        "\n",
        "Ans Poor memory management can lead to various issues such as memory leaks, fragmentation, excessive paging, and crashes, which indirectly degrade system performance and stability."
      ],
      "metadata": {
        "id": "9XYRUt6w4LIG"
      }
    },
    {
      "cell_type": "markdown",
      "source": [
        "24. How do you raise an exception manually in Python?\n",
        "\n",
        "Ans In Python, exceptions are manually raised using the raise statement. This allows a developer to explicitly signal an error or an exceptional condition within the code flow.\n",
        "\n",
        "The basic syntax for raising an exception is:\n",
        "\n",
        "**raise ExceptionType(\"Optional error message\")**"
      ],
      "metadata": {
        "id": "NuLIc7M8H5Zo"
      }
    },
    {
      "cell_type": "markdown",
      "source": [
        "25. Why is it important to use multithreading in certain applications?\n",
        "\n",
        "Ans Multithreading is important in certain applications because it allows for improved performance, responsiveness, and efficient resource utilization by enabling multiple tasks to run concurrently within a single process. This is particularly beneficial for applications involving heavy computations, network operations, or graphical user interfaces, where responsiveness and efficient handling of multiple requests are crucial."
      ],
      "metadata": {
        "id": "R0j7kTDIH58O"
      }
    },
    {
      "cell_type": "markdown",
      "source": [
        "Practical Questions:"
      ],
      "metadata": {
        "id": "oePeQ7deI3uJ"
      }
    },
    {
      "cell_type": "markdown",
      "source": [
        "1.  How can you open a file for writing in Python and write a string to it?"
      ],
      "metadata": {
        "id": "d6To2RtkI82i"
      }
    },
    {
      "cell_type": "code",
      "execution_count": 61,
      "metadata": {
        "id": "oPZo_FPzy8qK"
      },
      "outputs": [],
      "source": [
        "file = open(\"file.txt\", \"w\")\n",
        "file.write(\"hello\")\n",
        "file.write(\"world\")\n",
        "file.close()\n"
      ]
    },
    {
      "cell_type": "markdown",
      "source": [
        "2. Write a Python program to read the contents of a file and print each line."
      ],
      "metadata": {
        "id": "iQzb6iomLYs5"
      }
    },
    {
      "cell_type": "code",
      "source": [
        "file = open(\"file.txt\", \"r\")\n",
        "file.read()\n",
        "for i in file:\n",
        "  print(i)"
      ],
      "metadata": {
        "id": "4pPshrx4LpjA"
      },
      "execution_count": 62,
      "outputs": []
    },
    {
      "cell_type": "markdown",
      "source": [
        "3. How would you handle a case where the file doesn't exist while trying to open it for reading?"
      ],
      "metadata": {
        "id": "dUmmfljMOHap"
      }
    },
    {
      "cell_type": "code",
      "source": [
        "try:\n",
        "  file = open(\"file.txt\", 'r')\n",
        "  file.read()\n",
        "except Exception as e:\n",
        "  print(e)"
      ],
      "metadata": {
        "id": "851431bEONIz"
      },
      "execution_count": 63,
      "outputs": []
    },
    {
      "cell_type": "markdown",
      "source": [
        "4.  Write a Python script that reads from one file and writes its content to another file."
      ],
      "metadata": {
        "id": "6o8NVaK3PNRz"
      }
    },
    {
      "cell_type": "code",
      "source": [
        "\n",
        "try:\n",
        "    with open(\"source_file.txt\", \"r\") as source_file:\n",
        "        content = source_file.read()\n",
        "\n",
        "    with open(\"destination_file.txt\", \"w\") as destination_file:\n",
        "        destination_file.write(content)\n",
        "\n",
        "    print(\"Content successfully copied from source_file.txt to destination_file.txt\")\n",
        "\n",
        "except FileNotFoundError:\n",
        "    print(\"Error: The source file was not found.\")\n",
        "except Exception as e:\n",
        "    print(f\"An error occurred: {e}\")\n"
      ],
      "metadata": {
        "id": "rrXZIHg2PSw-",
        "colab": {
          "base_uri": "https://localhost:8080/"
        },
        "outputId": "c3aa2b5b-9153-4e69-f34a-edbaa15c105b"
      },
      "execution_count": 64,
      "outputs": [
        {
          "output_type": "stream",
          "name": "stdout",
          "text": [
            "Error: The source file was not found.\n"
          ]
        }
      ]
    },
    {
      "cell_type": "markdown",
      "source": [
        "5. How would you catch and handle division by zero error in Python?"
      ],
      "metadata": {
        "id": "-eBB6hW5PXLy"
      }
    },
    {
      "cell_type": "code",
      "source": [
        "\n",
        "try:\n",
        "  8/0\n",
        "except ZeroDivisionError as e:\n",
        "  print(e)\n",
        "else:\n",
        "  print(\"no error\")"
      ],
      "metadata": {
        "colab": {
          "base_uri": "https://localhost:8080/"
        },
        "id": "w8IwK2EYPZv7",
        "outputId": "3aab9ea1-7893-42cc-cac0-366f38c85197"
      },
      "execution_count": 65,
      "outputs": [
        {
          "output_type": "stream",
          "name": "stdout",
          "text": [
            "division by zero\n"
          ]
        }
      ]
    },
    {
      "cell_type": "markdown",
      "source": [
        "6. Write a Python program that logs an error message to a log file when a division by zero exception occurs."
      ],
      "metadata": {
        "id": "C3OZGtmOQThW"
      }
    },
    {
      "cell_type": "code",
      "source": [
        "import logging\n",
        "logging.basicConfig(filename = \"file.log\", level = logging.error)\n",
        "try:\n",
        "  8/0\n",
        "  logging.info(\"no error\")\n",
        "except ZeroDivisionError as e:\n",
        "  logging.error(e)\n"
      ],
      "metadata": {
        "colab": {
          "base_uri": "https://localhost:8080/"
        },
        "id": "zf2hS1V_aEcR",
        "outputId": "112d9950-63b4-4aa5-eaa1-64a9a6aa30e7"
      },
      "execution_count": 66,
      "outputs": [
        {
          "output_type": "stream",
          "name": "stderr",
          "text": [
            "ERROR:root:division by zero\n"
          ]
        }
      ]
    },
    {
      "cell_type": "markdown",
      "source": [
        "7.  How do you log information at different levels (INFO, ERROR, WARNING) in Python using the logging module?"
      ],
      "metadata": {
        "id": "iu0QMbpvQewx"
      }
    },
    {
      "cell_type": "code",
      "source": [
        "import logging\n",
        "logging.basicConfig(filename = \"file.log\", level = logging.INFO)\n",
        "logging.info(\"that is the information\")\n",
        "logging.warning(\"that is the warning\")\n",
        "logging.error(\"that is the error\")\n",
        "logging.shutdown()"
      ],
      "metadata": {
        "id": "CjaGTBtZRT2_",
        "colab": {
          "base_uri": "https://localhost:8080/"
        },
        "outputId": "ee2e958c-0965-4678-c534-534208e88450"
      },
      "execution_count": 67,
      "outputs": [
        {
          "output_type": "stream",
          "name": "stderr",
          "text": [
            "WARNING:root:that is the warning\n",
            "ERROR:root:that is the error\n"
          ]
        }
      ]
    },
    {
      "cell_type": "markdown",
      "source": [
        "8. Write a program to handle a file opening error using exception handling?"
      ],
      "metadata": {
        "id": "th0L0RoURUSI"
      }
    },
    {
      "cell_type": "code",
      "source": [
        "try:\n",
        "    with open(\"non_existent_file.txt\", 'r') as file:\n",
        "        content = file.read()\n",
        "        print(content)\n",
        "except FileNotFoundError:\n",
        "    print(\"Error: The file was not found.\")\n",
        "except Exception as e:\n",
        "    print(f\"An unexpected error occurred: {e}\")"
      ],
      "metadata": {
        "id": "yfFEyVTiRbTn",
        "colab": {
          "base_uri": "https://localhost:8080/"
        },
        "outputId": "f4da33a3-a137-4b6d-8ae8-7ea246817246"
      },
      "execution_count": 68,
      "outputs": [
        {
          "output_type": "stream",
          "name": "stdout",
          "text": [
            "Error: The file was not found.\n"
          ]
        }
      ]
    },
    {
      "cell_type": "markdown",
      "source": [
        "9.  How can you read a file line by line and store its content in a list in Python?"
      ],
      "metadata": {
        "id": "eFfD_OO2RbpP"
      }
    },
    {
      "cell_type": "code",
      "source": [
        "l = [5, \"hey\", [5, 7,\"true\"]]\n",
        "l1_int = []\n",
        "l2_str = []\n",
        "\n",
        "for i in l:\n",
        "  logging.info(f\"processing each element {i}\")\n",
        "\n",
        "  if type(i) == list:\n",
        "    for j in i:\n",
        "      if type(j) == int:\n",
        "        l1_int.append(j)\n",
        "      if type(j) == str:\n",
        "        l2_str.append(j)\n",
        "  elif type(i) == int:\n",
        "    l1_int.append(i)\n",
        "  else:\n",
        "    l2_str.append(i)\n",
        "logging.info(f\"the result is : {l1_int}, {l2_str}\")\n",
        "logging.shutdown()"
      ],
      "metadata": {
        "id": "JJlXYgxGdAJ7"
      },
      "execution_count": 81,
      "outputs": []
    },
    {
      "cell_type": "markdown",
      "source": [
        "10.  How can you append data to an existing file in Python?"
      ],
      "metadata": {
        "id": "0zyDFdzRgQBp"
      }
    },
    {
      "cell_type": "code",
      "source": [
        "file = open(\"filename.txt\", \"a\")\n",
        "file.write(\"\\nThis is new data appended to the file.\")\n",
        "file.close()\n"
      ],
      "metadata": {
        "id": "59CQtmCRgOf_"
      },
      "execution_count": 70,
      "outputs": []
    },
    {
      "cell_type": "markdown",
      "source": [
        "11. Write a Python program that uses a try-except block to handle an error when attempting to access a\n",
        "dictionary key that doesn't exist."
      ],
      "metadata": {
        "id": "3uTCnWqDgOJ6"
      }
    },
    {
      "cell_type": "code",
      "source": [
        "my_dict = {'a': 1, 'b': 2}\n",
        "\n",
        "try:\n",
        "  value = my_dict['c']\n",
        "  print(value)\n",
        "except KeyError:\n",
        "  print(\"Error: Dictionary key not found.\")\n",
        "except Exception as e:\n",
        "  print(f\"An unexpected error occurred: {e}\")"
      ],
      "metadata": {
        "id": "twObedHagR-U",
        "colab": {
          "base_uri": "https://localhost:8080/"
        },
        "outputId": "10192719-98b5-464f-e72a-6a2071fc0158"
      },
      "execution_count": 71,
      "outputs": [
        {
          "output_type": "stream",
          "name": "stdout",
          "text": [
            "Error: Dictionary key not found.\n"
          ]
        }
      ]
    },
    {
      "cell_type": "markdown",
      "source": [
        "12. Write a program that demonstrates using multiple except blocks to handle different types of exceptions."
      ],
      "metadata": {
        "id": "Phy9xZ86gSZn"
      }
    },
    {
      "cell_type": "code",
      "source": [
        "def demonstrate_multiple_exceptions():\n",
        "    try:\n",
        "        num1 = int(input(\"Enter the first number: \"))\n",
        "        num2 = int(input(\"Enter the second number: \"))\n",
        "        result = num1 / num2\n",
        "        return result,\n",
        "\n",
        "    except ValueError:\n",
        "        print(\"Error: Invalid input. Please enter integers only.\")\n",
        "    except ZeroDivisionError:\n",
        "        print(\"Error: Cannot divide by zero.\")\n",
        "    except Exception as e:\n",
        "        print(f\"An unexpected error occurred: {e}\")\n",
        "    else:\n",
        "        print(f\"The division result is: {result}\")\n",
        "\n",
        "demonstrate_multiple_exceptions()\n"
      ],
      "metadata": {
        "id": "HSaW84J8gS9H",
        "colab": {
          "base_uri": "https://localhost:8080/"
        },
        "outputId": "36fc0377-caf7-4d9e-ed79-e5c784dbff53"
      },
      "execution_count": 72,
      "outputs": [
        {
          "output_type": "stream",
          "name": "stdout",
          "text": [
            "Enter the first number: 8\n",
            "Enter the second number: 0\n",
            "Error: Cannot divide by zero.\n"
          ]
        }
      ]
    },
    {
      "cell_type": "markdown",
      "source": [
        "13. How would you check if a file exists before attempting to read it in Python?"
      ],
      "metadata": {
        "id": "Eu9U9SKuppZe"
      }
    },
    {
      "cell_type": "code",
      "source": [
        "import os\n",
        "\n",
        "file_path = \"filename.txt\"\n",
        "if os.path.exists(file_path):\n",
        "  try:\n",
        "    with open(file_path, 'r') as file:\n",
        "      content = file.read()\n",
        "      print(content)\n",
        "  except Exception as e:\n",
        "    print(f\"An error occurred while reading the file: {e}\")\n",
        "else:\n",
        "  print(f\"Error: The file '{file_path}' does not exist.\")"
      ],
      "metadata": {
        "id": "6iGw2hzppp6w",
        "colab": {
          "base_uri": "https://localhost:8080/"
        },
        "outputId": "436718a4-cbbc-43dd-a3fe-b0f675892e37"
      },
      "execution_count": 73,
      "outputs": [
        {
          "output_type": "stream",
          "name": "stdout",
          "text": [
            "\n",
            "This is new data appended to the file.\n",
            "Another line appended using the with statement.\n",
            "This is new data appended to the file.\n",
            "This is new data appended to the file.\n",
            "This is new data appended to the file.\n",
            "This is new data appended to the file.\n",
            "This is new data appended to the file.\n",
            "This is new data appended to the file.\n"
          ]
        }
      ]
    },
    {
      "cell_type": "markdown",
      "source": [
        "14. Write a program that uses the logging module to log both informational and error messages."
      ],
      "metadata": {
        "id": "sPGN0W57pw7d"
      }
    },
    {
      "cell_type": "code",
      "source": [
        "logging.basicConfig(level=logging.INFO, format='%(asctime)s - %(levelname)s - %(message)s')\n",
        "\n",
        "def example_function(value):\n",
        "  if value > 10:\n",
        "    logging.info(f\"Value {value} is greater than 10.\")\n",
        "  else:\n",
        "    logging.warning(f\"Value {value} is not greater than 10.\")\n",
        "\n",
        "try:\n",
        "  result = 10 / 0\n",
        "except ZeroDivisionError as e:\n",
        "  logging.error(f\"A division by zero error occurred: {e}\")\n",
        "\n",
        "example_function(15)\n",
        "example_function(5)\n",
        "\n",
        "logging.info(\"Program finished.\")\n"
      ],
      "metadata": {
        "id": "FUJ8WJlpp2fN",
        "colab": {
          "base_uri": "https://localhost:8080/"
        },
        "outputId": "9b66e42c-12ae-4331-9fa6-3f105ec7952b"
      },
      "execution_count": 74,
      "outputs": [
        {
          "output_type": "stream",
          "name": "stderr",
          "text": [
            "ERROR:root:A division by zero error occurred: division by zero\n",
            "WARNING:root:Value 5 is not greater than 10.\n"
          ]
        }
      ]
    },
    {
      "cell_type": "markdown",
      "source": [
        "15.Write a Python program that prints the content of a file and handles the case when the file is empty."
      ],
      "metadata": {
        "id": "SKlACZqpp6kY"
      }
    },
    {
      "cell_type": "code",
      "source": [
        "\n",
        "def print_file_content_with_empty_check(file_path):\n",
        "  try:\n",
        "    with open(file_path, 'r') as file:\n",
        "      content = file.read()\n",
        "      if not content:\n",
        "        print(f\"The file '{file_path}' is empty.\")\n",
        "      else:\n",
        "        print(f\"Content of '{file_path}':\\n{content}\")\n",
        "  except Exception as e:\n",
        "    print(f\"An unexpected error occurred: {e}\")\n",
        "\n",
        "with open(\"test_file.txt\", \"w\") as f:\n",
        "  f.write(\"This is some content.\")\n",
        "\n",
        "# Example with a file with content\n",
        "print_file_content_with_empty_check(\"test_file.txt\")\n",
        "\n",
        "# Example with an empty file\n",
        "with open(\"empty_file.txt\", \"w\") as f:\n",
        "  pass # Create an empty file\n",
        "\n",
        "print_file_content_with_empty_check(\"empty_file.txt\")\n",
        "\n",
        "# Example with a non-existent file\n",
        "print_file_content_with_empty_check(\"non_existent_file.txt\")\n"
      ],
      "metadata": {
        "id": "T62KJ1UWqK8U",
        "colab": {
          "base_uri": "https://localhost:8080/"
        },
        "outputId": "a4a787ad-6215-4fa4-bab0-91e899c065de"
      },
      "execution_count": 75,
      "outputs": [
        {
          "output_type": "stream",
          "name": "stdout",
          "text": [
            "Content of 'test_file.txt':\n",
            "This is some content.\n",
            "The file 'empty_file.txt' is empty.\n",
            "An unexpected error occurred: [Errno 2] No such file or directory: 'non_existent_file.txt'\n"
          ]
        }
      ]
    },
    {
      "cell_type": "markdown",
      "source": [
        "16. Demonstrate how to use memory profiling to check the memory usage of a small program."
      ],
      "metadata": {
        "id": "3LZSTXqsqLdH"
      }
    },
    {
      "cell_type": "markdown",
      "source": [
        "17. Write a Python program to create and write a list of numbers to a file, one number per line."
      ],
      "metadata": {
        "id": "jIj6kuw4qRHk"
      }
    },
    {
      "cell_type": "code",
      "source": [
        "numbers = [10, 20, 30, 40, 50]\n",
        "file_path = \"numbers.txt\"\n",
        "try:\n",
        "    with open(file_path, 'w') as file:\n",
        "        for number in numbers:\n",
        "            file.write(str(number) + '\\n')\n",
        "    print(f\"List of numbers successfully written to '{file_path}'.\")\n",
        "except Exception as e:\n",
        "    print(f\"An unexpected error occurred: {e}\")\n"
      ],
      "metadata": {
        "id": "_8_l4hm6qXZ2",
        "colab": {
          "base_uri": "https://localhost:8080/"
        },
        "outputId": "48e0fe71-1158-4959-c97f-7c9b1613f44f"
      },
      "execution_count": 76,
      "outputs": [
        {
          "output_type": "stream",
          "name": "stdout",
          "text": [
            "List of numbers successfully written to 'numbers.txt'.\n"
          ]
        }
      ]
    },
    {
      "cell_type": "markdown",
      "source": [
        "18. How would you implement a basic logging setup that logs to a file with rotation after 1MB?"
      ],
      "metadata": {
        "id": "5BDxjri7qX0C"
      }
    },
    {
      "cell_type": "code",
      "source": [
        "from logging.handlers import RotatingFileHandler\n",
        "import logging\n",
        "import os\n",
        "\n",
        "log_file_path = 'myapp.log'\n",
        "max_file_size = 1 * 1024 * 1024  # 1MB\n",
        "backup_count = 5\n",
        "\n",
        "# Create a logger\n",
        "logger = logging.getLogger(__name__)\n",
        "logger.setLevel(logging.INFO)  # Set the logging level\n",
        "\n",
        "# Create a rotating file handler\n",
        "handler = RotatingFileHandler(log_file_path, maxBytes=max_file_size, backupCount=backup_count)\n",
        "\n",
        "# Create a formatter\n",
        "formatter = logging.Formatter('%(asctime)s - %(name)s - %(levelname)s - %(message)s')\n",
        "handler.setFormatter(formatter)\n",
        "\n",
        "# Add the handler to the logger\n",
        "logger.addHandler(handler)\n",
        "\n",
        "# Example usage\n",
        "logger.info(\"This is an informational message.\")\n",
        "logger.warning(\"This is a warning message.\")\n",
        "logger.error(\"This is an error message.\")\n"
      ],
      "metadata": {
        "id": "GMsniRbOqgxH",
        "colab": {
          "base_uri": "https://localhost:8080/"
        },
        "outputId": "66a25a8e-1b21-479e-c23f-a728148bc0ee"
      },
      "execution_count": 77,
      "outputs": [
        {
          "output_type": "stream",
          "name": "stderr",
          "text": [
            "INFO:__main__:This is an informational message.\n",
            "WARNING:__main__:This is a warning message.\n",
            "ERROR:__main__:This is an error message.\n"
          ]
        }
      ]
    },
    {
      "cell_type": "markdown",
      "source": [
        "19. Write a program that handles both IndexError and KeyError using a try-except block."
      ],
      "metadata": {
        "id": "WybqdtejqhGS"
      }
    },
    {
      "cell_type": "code",
      "source": [
        "\n",
        "data_list = [1, 2, 3]\n",
        "data_dict = {'a': 10, 'b': 20}\n",
        "try:\n",
        "  print(data_list[3])\n",
        "  print(data_dict['c'])\n",
        "except (IndexError, KeyError) as e:\n",
        "  print(f\"Caught an error: {e}\")\n",
        "except Exception as e:\n",
        "  print(f\"Caught an unexpected error: {e}\")"
      ],
      "metadata": {
        "id": "66tTRzeFql6x",
        "colab": {
          "base_uri": "https://localhost:8080/"
        },
        "outputId": "6bb02f71-1568-41a4-ade0-c8e0c314e1bd"
      },
      "execution_count": 82,
      "outputs": [
        {
          "output_type": "stream",
          "name": "stdout",
          "text": [
            "Caught an error: list index out of range\n"
          ]
        }
      ]
    },
    {
      "cell_type": "markdown",
      "source": [
        "20. How would you open a file and read its contents using a context manager in Python?"
      ],
      "metadata": {
        "id": "UxXQR_osqmQs"
      }
    },
    {
      "cell_type": "code",
      "source": [
        "def read_file_with_context_manager(file_path):\n",
        "  try:\n",
        "    with open(file_path, 'r') as file:\n",
        "      content = file.read()\n",
        "      print(f\"Content of '{file_path}':\\n{content}\")\n",
        "  except FileNotFoundError:\n",
        "    print(f\"Error: The file '{file_path}' was not found.\")\n",
        "  except Exception as e:\n",
        "    print(f\"An unexpected error occurred: {e}\")\n",
        "\n",
        "# Create a dummy file for testing\n",
        "with open(\"example.txt\", \"w\") as f:\n",
        "  f.write(\"This is an example file.\\n\")\n",
        "  f.write(\"It has multiple lines.\")\n",
        "\n",
        "# Example usage\n",
        "read_file_with_context_manager(\"example.txt\")\n",
        "read_file_with_context_manager(\"non_existent_file.txt\") # Example with a non-existent file\n"
      ],
      "metadata": {
        "id": "ohUCx-r6qqFO",
        "colab": {
          "base_uri": "https://localhost:8080/"
        },
        "outputId": "2544c97f-9d7c-4573-e47a-9434da4edeee"
      },
      "execution_count": 78,
      "outputs": [
        {
          "output_type": "stream",
          "name": "stdout",
          "text": [
            "Content of 'example.txt':\n",
            "This is an example file.\n",
            "It has multiple lines.\n",
            "Error: The file 'non_existent_file.txt' was not found.\n"
          ]
        }
      ]
    },
    {
      "cell_type": "markdown",
      "source": [
        "21. Write a Python program that reads a file and prints the number of occurrences of a specific word."
      ],
      "metadata": {
        "id": "PLn4jGlPqqfO"
      }
    },
    {
      "cell_type": "markdown",
      "source": [
        "22. How can you check if a file is empty before attempting to read its contents?"
      ],
      "metadata": {
        "id": "dXCvsLaJquoQ"
      }
    },
    {
      "cell_type": "code",
      "source": [
        "import os\n",
        "\n",
        "def is_file_empty(filepath):\n",
        "  \"\"\"\n",
        "  Checks if a file is empty.\n",
        "\n",
        "  Args:\n",
        "    filepath: The path to the file.\n",
        "\n",
        "  Returns:\n",
        "    True if the file is empty, False otherwise.\n",
        "  \"\"\"\n",
        "  if not os.path.exists(filepath):\n",
        "    print(f\"Error: File not found at {filepath}\")\n",
        "    return False  # Consider a non-existent file as not empty for this purpose\n",
        "  return os.stat(filepath).st_size == 0\n",
        "\n",
        "# Example usage:\n",
        "file_to_check = \"file.txt\"\n",
        "\n",
        "# Ensure the file exists for demonstration purposes\n",
        "try:\n",
        "    with open(file_to_check, \"w\") as f:\n",
        "        pass # Create an empty file initially\n",
        "except Exception as e:\n",
        "    print(f\"Error creating test file: {e}\")\n",
        "\n",
        "if is_file_empty(file_to_check):\n",
        "  print(f\"The file '{file_to_check}' is empty.\")\n",
        "else:\n",
        "  print(f\"The file '{file_to_check}' is not empty.\")\n",
        "\n",
        "# Write something to the file to test the non-empty case\n",
        "try:\n",
        "    with open(file_to_check, \"w\") as f:\n",
        "        f.write(\"This is not empty.\")\n",
        "except Exception as e:\n",
        "    print(f\"Error writing to test file: {e}\")\n",
        "\n",
        "if is_file_empty(file_to_check):\n",
        "  print(f\"The file '{file_to_check}' is empty.\")\n",
        "else:\n",
        "  print(f\"The file '{file_to_check}' is not empty.\")\n",
        "\n"
      ],
      "metadata": {
        "id": "klREbkepqzWX",
        "colab": {
          "base_uri": "https://localhost:8080/"
        },
        "outputId": "04c66370-f3be-486c-ccad-031a333e0d70"
      },
      "execution_count": 79,
      "outputs": [
        {
          "output_type": "stream",
          "name": "stdout",
          "text": [
            "The file 'file.txt' is empty.\n",
            "The file 'file.txt' is not empty.\n"
          ]
        }
      ]
    },
    {
      "cell_type": "markdown",
      "source": [
        "23. Write a Python program that writes to a log file when an error occurs during file handling."
      ],
      "metadata": {
        "id": "yAtvh2LqqztV"
      }
    },
    {
      "cell_type": "code",
      "source": [
        "import logging\n",
        "logging.basicConfig(filename='file_handling_errors.log', level=logging.ERROR)\n",
        "\n",
        "try:\n",
        "    with open(\"non_existent_file.txt\", 'r') as f:\n",
        "        content = f.read()\n",
        "except FileNotFoundError:\n",
        "    logging.error(\"Error: The file non_existent_file.txt was not found.\")\n",
        "except Exception as e:\n",
        "    logging.error(f\"An unexpected error occurred during file handling: {e}\")\n",
        "\n",
        "logging.shutdown()\n"
      ],
      "metadata": {
        "id": "614koQQMq3e-",
        "colab": {
          "base_uri": "https://localhost:8080/"
        },
        "outputId": "18361afd-a84c-44cf-bad0-10907333657f"
      },
      "execution_count": 80,
      "outputs": [
        {
          "output_type": "stream",
          "name": "stderr",
          "text": [
            "ERROR:root:Error: The file non_existent_file.txt was not found.\n"
          ]
        }
      ]
    }
  ]
}